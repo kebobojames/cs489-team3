{
  "cells": [
    {
      "cell_type": "code",
      "execution_count": null,
      "metadata": {
        "id": "TCc7Zob2QN4T"
      },
      "outputs": [],
      "source": [
        "# Note that this notebook is originally written in Google Colab\n",
        "# This code is for output formatting, so that the text is wrapped (for easier reading)\n",
        "\n",
        "from IPython.display import HTML, display\n",
        "\n",
        "def set_css():\n",
        "  display(HTML('''\n",
        "  <style>\n",
        "    pre {\n",
        "        white-space: pre-wrap;\n",
        "    }\n",
        "  </style>\n",
        "  '''))\n",
        "get_ipython().events.register('pre_run_cell', set_css)"
      ]
    },
    {
      "cell_type": "code",
      "execution_count": null,
      "metadata": {
        "colab": {
          "base_uri": "https://localhost:8080/"
        },
        "id": "S9EBaiakvMcE",
        "outputId": "b2f65968-2399-4e2f-b255-6cb0bef5b0a1"
      },
      "outputs": [
        {
          "name": "stdout",
          "output_type": "stream",
          "text": [
            "Requirement already satisfied: bertopic in /usr/local/lib/python3.7/dist-packages (0.9.3)\n",
            "Requirement already satisfied: tqdm>=4.41.1 in /usr/local/lib/python3.7/dist-packages (from bertopic) (4.62.3)\n",
            "Requirement already satisfied: umap-learn>=0.5.0 in /usr/local/lib/python3.7/dist-packages (from bertopic) (0.5.2)\n",
            "Requirement already satisfied: pandas>=1.1.5 in /usr/local/lib/python3.7/dist-packages (from bertopic) (1.1.5)\n",
            "Requirement already satisfied: pyyaml<6.0 in /usr/local/lib/python3.7/dist-packages (from bertopic) (5.4.1)\n",
            "Requirement already satisfied: plotly<4.14.3,>=4.7.0 in /usr/local/lib/python3.7/dist-packages (from bertopic) (4.14.2)\n",
            "Requirement already satisfied: sentence-transformers>=0.4.1 in /usr/local/lib/python3.7/dist-packages (from bertopic) (2.1.0)\n",
            "Requirement already satisfied: hdbscan>=0.8.27 in /usr/local/lib/python3.7/dist-packages (from bertopic) (0.8.27)\n",
            "Requirement already satisfied: scikit-learn>=0.22.2.post1 in /usr/local/lib/python3.7/dist-packages (from bertopic) (1.0.1)\n",
            "Requirement already satisfied: numpy>=1.20.0 in /usr/local/lib/python3.7/dist-packages (from bertopic) (1.21.4)\n",
            "Requirement already satisfied: scipy>=1.0 in /usr/local/lib/python3.7/dist-packages (from hdbscan>=0.8.27->bertopic) (1.4.1)\n",
            "Requirement already satisfied: six in /usr/local/lib/python3.7/dist-packages (from hdbscan>=0.8.27->bertopic) (1.15.0)\n",
            "Requirement already satisfied: cython>=0.27 in /usr/local/lib/python3.7/dist-packages (from hdbscan>=0.8.27->bertopic) (0.29.24)\n",
            "Requirement already satisfied: joblib>=1.0 in /usr/local/lib/python3.7/dist-packages (from hdbscan>=0.8.27->bertopic) (1.1.0)\n",
            "Requirement already satisfied: python-dateutil>=2.7.3 in /usr/local/lib/python3.7/dist-packages (from pandas>=1.1.5->bertopic) (2.8.2)\n",
            "Requirement already satisfied: pytz>=2017.2 in /usr/local/lib/python3.7/dist-packages (from pandas>=1.1.5->bertopic) (2018.9)\n",
            "Requirement already satisfied: retrying>=1.3.3 in /usr/local/lib/python3.7/dist-packages (from plotly<4.14.3,>=4.7.0->bertopic) (1.3.3)\n",
            "Requirement already satisfied: threadpoolctl>=2.0.0 in /usr/local/lib/python3.7/dist-packages (from scikit-learn>=0.22.2.post1->bertopic) (3.0.0)\n",
            "Requirement already satisfied: nltk in /usr/local/lib/python3.7/dist-packages (from sentence-transformers>=0.4.1->bertopic) (3.2.5)\n",
            "Requirement already satisfied: torch>=1.6.0 in /usr/local/lib/python3.7/dist-packages (from sentence-transformers>=0.4.1->bertopic) (1.10.0+cu111)\n",
            "Requirement already satisfied: transformers<5.0.0,>=4.6.0 in /usr/local/lib/python3.7/dist-packages (from sentence-transformers>=0.4.1->bertopic) (4.12.5)\n",
            "Requirement already satisfied: tokenizers>=0.10.3 in /usr/local/lib/python3.7/dist-packages (from sentence-transformers>=0.4.1->bertopic) (0.10.3)\n",
            "Requirement already satisfied: torchvision in /usr/local/lib/python3.7/dist-packages (from sentence-transformers>=0.4.1->bertopic) (0.11.1+cu111)\n",
            "Requirement already satisfied: sentencepiece in /usr/local/lib/python3.7/dist-packages (from sentence-transformers>=0.4.1->bertopic) (0.1.96)\n",
            "Requirement already satisfied: huggingface-hub in /usr/local/lib/python3.7/dist-packages (from sentence-transformers>=0.4.1->bertopic) (0.2.1)\n",
            "Requirement already satisfied: typing-extensions in /usr/local/lib/python3.7/dist-packages (from torch>=1.6.0->sentence-transformers>=0.4.1->bertopic) (3.10.0.2)\n",
            "Requirement already satisfied: filelock in /usr/local/lib/python3.7/dist-packages (from transformers<5.0.0,>=4.6.0->sentence-transformers>=0.4.1->bertopic) (3.4.0)\n",
            "Requirement already satisfied: importlib-metadata in /usr/local/lib/python3.7/dist-packages (from transformers<5.0.0,>=4.6.0->sentence-transformers>=0.4.1->bertopic) (4.8.2)\n",
            "Requirement already satisfied: requests in /usr/local/lib/python3.7/dist-packages (from transformers<5.0.0,>=4.6.0->sentence-transformers>=0.4.1->bertopic) (2.23.0)\n",
            "Requirement already satisfied: regex!=2019.12.17 in /usr/local/lib/python3.7/dist-packages (from transformers<5.0.0,>=4.6.0->sentence-transformers>=0.4.1->bertopic) (2019.12.20)\n",
            "Requirement already satisfied: sacremoses in /usr/local/lib/python3.7/dist-packages (from transformers<5.0.0,>=4.6.0->sentence-transformers>=0.4.1->bertopic) (0.0.46)\n",
            "Requirement already satisfied: packaging>=20.0 in /usr/local/lib/python3.7/dist-packages (from transformers<5.0.0,>=4.6.0->sentence-transformers>=0.4.1->bertopic) (21.3)\n",
            "Requirement already satisfied: pyparsing!=3.0.5,>=2.0.2 in /usr/local/lib/python3.7/dist-packages (from packaging>=20.0->transformers<5.0.0,>=4.6.0->sentence-transformers>=0.4.1->bertopic) (3.0.6)\n",
            "Requirement already satisfied: pynndescent>=0.5 in /usr/local/lib/python3.7/dist-packages (from umap-learn>=0.5.0->bertopic) (0.5.5)\n",
            "Requirement already satisfied: numba>=0.49 in /usr/local/lib/python3.7/dist-packages (from umap-learn>=0.5.0->bertopic) (0.51.2)\n",
            "Requirement already satisfied: setuptools in /usr/local/lib/python3.7/dist-packages (from numba>=0.49->umap-learn>=0.5.0->bertopic) (57.4.0)\n",
            "Requirement already satisfied: llvmlite<0.35,>=0.34.0.dev0 in /usr/local/lib/python3.7/dist-packages (from numba>=0.49->umap-learn>=0.5.0->bertopic) (0.34.0)\n",
            "Requirement already satisfied: zipp>=0.5 in /usr/local/lib/python3.7/dist-packages (from importlib-metadata->transformers<5.0.0,>=4.6.0->sentence-transformers>=0.4.1->bertopic) (3.6.0)\n",
            "Requirement already satisfied: idna<3,>=2.5 in /usr/local/lib/python3.7/dist-packages (from requests->transformers<5.0.0,>=4.6.0->sentence-transformers>=0.4.1->bertopic) (2.10)\n",
            "Requirement already satisfied: certifi>=2017.4.17 in /usr/local/lib/python3.7/dist-packages (from requests->transformers<5.0.0,>=4.6.0->sentence-transformers>=0.4.1->bertopic) (2021.10.8)\n",
            "Requirement already satisfied: urllib3!=1.25.0,!=1.25.1,<1.26,>=1.21.1 in /usr/local/lib/python3.7/dist-packages (from requests->transformers<5.0.0,>=4.6.0->sentence-transformers>=0.4.1->bertopic) (1.24.3)\n",
            "Requirement already satisfied: chardet<4,>=3.0.2 in /usr/local/lib/python3.7/dist-packages (from requests->transformers<5.0.0,>=4.6.0->sentence-transformers>=0.4.1->bertopic) (3.0.4)\n",
            "Requirement already satisfied: click in /usr/local/lib/python3.7/dist-packages (from sacremoses->transformers<5.0.0,>=4.6.0->sentence-transformers>=0.4.1->bertopic) (7.1.2)\n",
            "Requirement already satisfied: pillow!=8.3.0,>=5.3.0 in /usr/local/lib/python3.7/dist-packages (from torchvision->sentence-transformers>=0.4.1->bertopic) (7.1.2)\n"
          ]
        }
      ],
      "source": [
        "# Import required packages\n",
        "# NOTE (IMPORTANT): Unfortunately, the way this works, the notebook needs to be refreshed after this is called once\n",
        "# So, when you first run the notebook, run this cell --> There will be an error saying that you need to refresh\n",
        "# Then, restart runtime and run all (everything should work well this time)\n",
        "!pip install bertopic"
      ]
    },
    {
      "cell_type": "code",
      "execution_count": null,
      "metadata": {
        "colab": {
          "base_uri": "https://localhost:8080/",
          "height": 35
        },
        "id": "BrVicJ2vsPyj",
        "outputId": "f8f99f3e-3a72-4c09-83e4-bbf5535b1da0"
      },
      "outputs": [
        {
          "data": {
            "text/html": [
              "\n",
              "  <style>\n",
              "    pre {\n",
              "        white-space: pre-wrap;\n",
              "    }\n",
              "  </style>\n",
              "  "
            ],
            "text/plain": [
              "<IPython.core.display.HTML object>"
            ]
          },
          "metadata": {},
          "output_type": "display_data"
        },
        {
          "name": "stdout",
          "output_type": "stream",
          "text": [
            "Mounted at /content/drive\n"
          ]
        }
      ],
      "source": [
        "# Mount Gdrive\n",
        "from google.colab import drive\n",
        "drive.mount(\"/content/drive\")"
      ]
    },
    {
      "cell_type": "code",
      "execution_count": null,
      "metadata": {
        "colab": {
          "base_uri": "https://localhost:8080/",
          "height": 16
        },
        "id": "NDcoMl0r7_3M",
        "outputId": "0f061402-3d96-4878-8de8-254609c9eee3"
      },
      "outputs": [
        {
          "data": {
            "text/html": [
              "\n",
              "  <style>\n",
              "    pre {\n",
              "        white-space: pre-wrap;\n",
              "    }\n",
              "  </style>\n",
              "  "
            ],
            "text/plain": [
              "<IPython.core.display.HTML object>"
            ]
          },
          "metadata": {},
          "output_type": "display_data"
        }
      ],
      "source": [
        "import os\n",
        "\n",
        "# Regular modules for data science and visualization:\n",
        "import numpy as np\n",
        "import pandas as pd\n",
        "import seaborn as sns\n",
        "import matplotlib.pyplot as plt\n",
        "\n",
        "\n",
        "# Keras (2.2.4) and tensorflow (1.13).\n",
        "import tensorflow as tf\n",
        "import tensorflow_hub as hub\n",
        "\n",
        "from keras.regularizers import l1, l2\n",
        "from keras.models import Sequential\n",
        "from keras.layers import Dense\n",
        "from keras.layers import Dropout\n",
        "from keras import backend\n",
        "from keras import optimizers\n",
        "\n",
        "#sklearn and imblearn modules:\n",
        "from sklearn.model_selection import cross_val_predict\n",
        "from sklearn.preprocessing import StandardScaler\n",
        "from sklearn.model_selection import StratifiedShuffleSplit\n",
        "from imblearn.over_sampling import SMOTE\n",
        "\n",
        "from sklearn.metrics import confusion_matrix"
      ]
    },
    {
      "cell_type": "code",
      "execution_count": null,
      "metadata": {
        "colab": {
          "base_uri": "https://localhost:8080/",
          "height": 16
        },
        "id": "MS_JT8lL8Rro",
        "outputId": "edda9709-94ea-47a9-fa3b-d059a806b4e7"
      },
      "outputs": [
        {
          "data": {
            "text/html": [
              "\n",
              "  <style>\n",
              "    pre {\n",
              "        white-space: pre-wrap;\n",
              "    }\n",
              "  </style>\n",
              "  "
            ],
            "text/plain": [
              "<IPython.core.display.HTML object>"
            ]
          },
          "metadata": {},
          "output_type": "display_data"
        }
      ],
      "source": [
        "root = '/content/drive/My Drive/CS489 Team 3 Project'"
      ]
    },
    {
      "cell_type": "code",
      "execution_count": null,
      "metadata": {
        "colab": {
          "base_uri": "https://localhost:8080/",
          "height": 16
        },
        "id": "prWMXiq5vOyV",
        "outputId": "09a21693-c7bb-44df-fec6-104cb11abdc5"
      },
      "outputs": [
        {
          "data": {
            "text/html": [
              "\n",
              "  <style>\n",
              "    pre {\n",
              "        white-space: pre-wrap;\n",
              "    }\n",
              "  </style>\n",
              "  "
            ],
            "text/plain": [
              "<IPython.core.display.HTML object>"
            ]
          },
          "metadata": {},
          "output_type": "display_data"
        }
      ],
      "source": [
        "# Load text and dataset\n",
        "df = pd.read_csv(root + \"/Irfan's code/articles3.csv\")"
      ]
    },
    {
      "cell_type": "code",
      "execution_count": null,
      "metadata": {
        "colab": {
          "base_uri": "https://localhost:8080/",
          "height": 16
        },
        "id": "QJaeFqF69OWF",
        "outputId": "013b2c10-9e44-4fd5-a906-861a28111a59"
      },
      "outputs": [
        {
          "data": {
            "text/html": [
              "\n",
              "  <style>\n",
              "    pre {\n",
              "        white-space: pre-wrap;\n",
              "    }\n",
              "  </style>\n",
              "  "
            ],
            "text/plain": [
              "<IPython.core.display.HTML object>"
            ]
          },
          "metadata": {},
          "output_type": "display_data"
        }
      ],
      "source": [
        "small_df = df[3000:3010]"
      ]
    },
    {
      "cell_type": "code",
      "execution_count": null,
      "metadata": {
        "colab": {
          "base_uri": "https://localhost:8080/",
          "height": 16
        },
        "id": "wGYEKF1NFQo5",
        "outputId": "5a1404f5-d218-4e48-9d3e-793d9dd02f92"
      },
      "outputs": [
        {
          "data": {
            "text/html": [
              "\n",
              "  <style>\n",
              "    pre {\n",
              "        white-space: pre-wrap;\n",
              "    }\n",
              "  </style>\n",
              "  "
            ],
            "text/plain": [
              "<IPython.core.display.HTML object>"
            ]
          },
          "metadata": {},
          "output_type": "display_data"
        }
      ],
      "source": [
        "#save the array for later usage\n",
        "e_All_four = np.load(root + \"/Irfan's code/e_All_four_0_2.npy\")"
      ]
    },
    {
      "cell_type": "code",
      "execution_count": null,
      "metadata": {
        "colab": {
          "base_uri": "https://localhost:8080/",
          "height": 91
        },
        "id": "jG59s_VdKGEx",
        "outputId": "8a9fb22f-b712-4ace-e688-3bfaca454089"
      },
      "outputs": [
        {
          "data": {
            "text/html": [
              "\n",
              "  <style>\n",
              "    pre {\n",
              "        white-space: pre-wrap;\n",
              "    }\n",
              "  </style>\n",
              "  "
            ],
            "text/plain": [
              "<IPython.core.display.HTML object>"
            ]
          },
          "metadata": {},
          "output_type": "display_data"
        },
        {
          "name": "stdout",
          "output_type": "stream",
          "text": [
            "WARNING:tensorflow:From /usr/local/lib/python3.7/dist-packages/tensorflow/python/compat/v2_compat.py:111: disable_resource_variables (from tensorflow.python.ops.variable_scope) is deprecated and will be removed in a future version.\n",
            "Instructions for updating:\n",
            "non-resource variables are not supported in the long term\n"
          ]
        }
      ],
      "source": [
        "import tensorflow.compat.v1 as tf\n",
        "tf.disable_v2_behavior()"
      ]
    },
    {
      "cell_type": "code",
      "execution_count": null,
      "metadata": {
        "colab": {
          "base_uri": "https://localhost:8080/",
          "height": 54
        },
        "id": "x27TGu1FKCJR",
        "outputId": "695b5776-3b3b-46e9-df3a-49206e5ad84e"
      },
      "outputs": [
        {
          "data": {
            "text/html": [
              "\n",
              "  <style>\n",
              "    pre {\n",
              "        white-space: pre-wrap;\n",
              "    }\n",
              "  </style>\n",
              "  "
            ],
            "text/plain": [
              "<IPython.core.display.HTML object>"
            ]
          },
          "metadata": {},
          "output_type": "display_data"
        },
        {
          "name": "stdout",
          "output_type": "stream",
          "text": [
            "INFO:tensorflow:Saver not created because there are no variables in the graph to restore\n"
          ]
        },
        {
          "name": "stderr",
          "output_type": "stream",
          "text": [
            "INFO:tensorflow:Saver not created because there are no variables in the graph to restore\n"
          ]
        }
      ],
      "source": [
        "# Load the encoder:\n",
        "g = tf.Graph()\n",
        "with g.as_default():\n",
        "  text_input = tf.placeholder(dtype=tf.string, shape=[None])\n",
        "  embed = hub.Module(\"https://tfhub.dev/google/universal-sentence-encoder-large/3\")\n",
        "  embedded_text = embed(text_input)\n",
        "  init_op = tf.group([tf.global_variables_initializer(), tf.tables_initializer()])\n",
        "g.finalize()\n",
        "\n",
        "# Initialize session:\n",
        "session = tf.Session(graph=g)\n",
        "session.run(init_op)"
      ]
    },
    {
      "cell_type": "code",
      "execution_count": null,
      "metadata": {
        "colab": {
          "base_uri": "https://localhost:8080/",
          "height": 16
        },
        "id": "AJWqzJm3KTVF",
        "outputId": "5cd651eb-89fa-4e23-c440-1f6842f63216"
      },
      "outputs": [
        {
          "data": {
            "text/html": [
              "\n",
              "  <style>\n",
              "    pre {\n",
              "        white-space: pre-wrap;\n",
              "    }\n",
              "  </style>\n",
              "  "
            ],
            "text/plain": [
              "<IPython.core.display.HTML object>"
            ]
          },
          "metadata": {},
          "output_type": "display_data"
        }
      ],
      "source": [
        "scaler = StandardScaler()"
      ]
    },
    {
      "cell_type": "code",
      "execution_count": null,
      "metadata": {
        "colab": {
          "base_uri": "https://localhost:8080/",
          "height": 16
        },
        "id": "7AAN-0KjylB1",
        "outputId": "670f7a95-7860-4f70-e1d8-686efbd3a361"
      },
      "outputs": [
        {
          "data": {
            "text/html": [
              "\n",
              "  <style>\n",
              "    pre {\n",
              "        white-space: pre-wrap;\n",
              "    }\n",
              "  </style>\n",
              "  "
            ],
            "text/plain": [
              "<IPython.core.display.HTML object>"
            ]
          },
          "metadata": {},
          "output_type": "display_data"
        }
      ],
      "source": [
        "# Load models\n",
        "from bertopic import BERTopic\n",
        "\n",
        "bert_topic = BERTopic.load(root + \"/Chrysan's code/topic_model\")\n",
        "news_DNN_four = tf.keras.models.load_model(root + \"/Irfan's code/news_DNN_four\")"
      ]
    },
    {
      "cell_type": "code",
      "execution_count": null,
      "metadata": {
        "colab": {
          "base_uri": "https://localhost:8080/",
          "height": 553
        },
        "id": "3NhdA60APWY_",
        "outputId": "310a3e1e-64a0-4d61-db3e-aae1d85db22d"
      },
      "outputs": [
        {
          "data": {
            "text/html": [
              "\n",
              "  <style>\n",
              "    pre {\n",
              "        white-space: pre-wrap;\n",
              "    }\n",
              "  </style>\n",
              "  "
            ],
            "text/plain": [
              "<IPython.core.display.HTML object>"
            ]
          },
          "metadata": {},
          "output_type": "display_data"
        },
        {
          "data": {
            "text/html": [
              "<div>\n",
              "<style scoped>\n",
              "    .dataframe tbody tr th:only-of-type {\n",
              "        vertical-align: middle;\n",
              "    }\n",
              "\n",
              "    .dataframe tbody tr th {\n",
              "        vertical-align: top;\n",
              "    }\n",
              "\n",
              "    .dataframe thead th {\n",
              "        text-align: right;\n",
              "    }\n",
              "</style>\n",
              "<table border=\"1\" class=\"dataframe\">\n",
              "  <thead>\n",
              "    <tr style=\"text-align: right;\">\n",
              "      <th></th>\n",
              "      <th>Unnamed: 0</th>\n",
              "      <th>id</th>\n",
              "      <th>title</th>\n",
              "      <th>publication</th>\n",
              "      <th>author</th>\n",
              "      <th>date</th>\n",
              "      <th>year</th>\n",
              "      <th>month</th>\n",
              "      <th>url</th>\n",
              "      <th>content</th>\n",
              "    </tr>\n",
              "  </thead>\n",
              "  <tbody>\n",
              "    <tr>\n",
              "      <th>2000</th>\n",
              "      <td>105459</td>\n",
              "      <td>155773</td>\n",
              "      <td>NBA star Dwyane Wade calls Chicago’s gun laws ...</td>\n",
              "      <td>Guardian</td>\n",
              "      <td>NaN</td>\n",
              "      <td>2016-09-02</td>\n",
              "      <td>2016.0</td>\n",
              "      <td>9.0</td>\n",
              "      <td>https://www.theguardian.com/us-news/2016/sep/0...</td>\n",
              "      <td>Dwyane Wade has lashed out against his hometow...</td>\n",
              "    </tr>\n",
              "    <tr>\n",
              "      <th>2001</th>\n",
              "      <td>105460</td>\n",
              "      <td>155774</td>\n",
              "      <td>DNA database brings scientists closer to pinpo...</td>\n",
              "      <td>Guardian</td>\n",
              "      <td>Nicola Davis</td>\n",
              "      <td>2016-08-17</td>\n",
              "      <td>2016.0</td>\n",
              "      <td>8.0</td>\n",
              "      <td>https://www.theguardian.com/science/2016/aug/1...</td>\n",
              "      <td>Scientists say they are closer to pinning down...</td>\n",
              "    </tr>\n",
              "    <tr>\n",
              "      <th>2002</th>\n",
              "      <td>105461</td>\n",
              "      <td>155775</td>\n",
              "      <td>Five Star mayor of Turin to create Italy’s fir...</td>\n",
              "      <td>Guardian</td>\n",
              "      <td>Stephanie Kirchgaessner</td>\n",
              "      <td>2016-07-21</td>\n",
              "      <td>2016.0</td>\n",
              "      <td>7.0</td>\n",
              "      <td>https://www.theguardian.com/world/2016/jul/21/...</td>\n",
              "      <td>From vitello tonnato  —   veal with tuna sauce...</td>\n",
              "    </tr>\n",
              "    <tr>\n",
              "      <th>2003</th>\n",
              "      <td>105462</td>\n",
              "      <td>155777</td>\n",
              "      <td>FX takes major steps to improve diversity in ’...</td>\n",
              "      <td>Guardian</td>\n",
              "      <td>Nigel M Smith</td>\n",
              "      <td>2016-08-09</td>\n",
              "      <td>2016.0</td>\n",
              "      <td>8.0</td>\n",
              "      <td>https://www.theguardian.com/media/2016/aug/09/...</td>\n",
              "      <td>FX, the TV network that dominated this year’s ...</td>\n",
              "    </tr>\n",
              "    <tr>\n",
              "      <th>2004</th>\n",
              "      <td>105463</td>\n",
              "      <td>155778</td>\n",
              "      <td>American obsession: how JonBenét Ramsey gave r...</td>\n",
              "      <td>Guardian</td>\n",
              "      <td>Michelle Dean</td>\n",
              "      <td>2016-09-09</td>\n",
              "      <td>2016.0</td>\n",
              "      <td>9.0</td>\n",
              "      <td>https://www.theguardian.com/us-news/2016/sep/0...</td>\n",
              "      <td>In February 1997, a regular visitor to the pop...</td>\n",
              "    </tr>\n",
              "    <tr>\n",
              "      <th>2005</th>\n",
              "      <td>105464</td>\n",
              "      <td>155779</td>\n",
              "      <td>Rio 2016: Spain beat Australia 89-88 to earn d...</td>\n",
              "      <td>Guardian</td>\n",
              "      <td>NaN</td>\n",
              "      <td>2016-08-21</td>\n",
              "      <td>2016.0</td>\n",
              "      <td>8.0</td>\n",
              "      <td>https://www.theguardian.com/sport/2016/aug/21/...</td>\n",
              "      <td>Spain beat Australia   in a thrilling clash to...</td>\n",
              "    </tr>\n",
              "    <tr>\n",
              "      <th>2006</th>\n",
              "      <td>105465</td>\n",
              "      <td>155781</td>\n",
              "      <td>Donald Trump still set on relocating US embass...</td>\n",
              "      <td>Guardian</td>\n",
              "      <td>Peter Beaumont</td>\n",
              "      <td>2016-12-12</td>\n",
              "      <td>2016.0</td>\n",
              "      <td>12.0</td>\n",
              "      <td>https://www.theguardian.com/world/2016/dec/12/...</td>\n",
              "      <td>A senior adviser to Donald Trump has reiterate...</td>\n",
              "    </tr>\n",
              "    <tr>\n",
              "      <th>2007</th>\n",
              "      <td>105466</td>\n",
              "      <td>155782</td>\n",
              "      <td>Shannon Purser: ‘People have actually had Barb...</td>\n",
              "      <td>Guardian</td>\n",
              "      <td>Michael Hogan</td>\n",
              "      <td>2016-12-17</td>\n",
              "      <td>2016.0</td>\n",
              "      <td>12.0</td>\n",
              "      <td>https://www.theguardian.com/tv-and-radio/2016/...</td>\n",
              "      <td>‘To say 2016 has been a big year for me is an ...</td>\n",
              "    </tr>\n",
              "    <tr>\n",
              "      <th>2008</th>\n",
              "      <td>105467</td>\n",
              "      <td>155783</td>\n",
              "      <td>Classmate of 43 missing Mexican students was t...</td>\n",
              "      <td>Guardian</td>\n",
              "      <td>NaN</td>\n",
              "      <td>2016-07-11</td>\n",
              "      <td>2016.0</td>\n",
              "      <td>7.0</td>\n",
              "      <td>https://www.theguardian.com/world/2016/jul/11/...</td>\n",
              "      <td>A classmate of 43 college students who disappe...</td>\n",
              "    </tr>\n",
              "    <tr>\n",
              "      <th>2009</th>\n",
              "      <td>105468</td>\n",
              "      <td>155784</td>\n",
              "      <td>Hey, Jude: Montana welcomes new dinosaur ’Judi...</td>\n",
              "      <td>Guardian</td>\n",
              "      <td>NaN</td>\n",
              "      <td>2016-05-18</td>\n",
              "      <td>2016.0</td>\n",
              "      <td>5.0</td>\n",
              "      <td>https://www.theguardian.com/science/2016/may/1...</td>\n",
              "      <td>A novice fossil collector’s lucky find in a re...</td>\n",
              "    </tr>\n",
              "  </tbody>\n",
              "</table>\n",
              "</div>"
            ],
            "text/plain": [
              "      Unnamed: 0  ...                                            content\n",
              "2000      105459  ...  Dwyane Wade has lashed out against his hometow...\n",
              "2001      105460  ...  Scientists say they are closer to pinning down...\n",
              "2002      105461  ...  From vitello tonnato  —   veal with tuna sauce...\n",
              "2003      105462  ...  FX, the TV network that dominated this year’s ...\n",
              "2004      105463  ...  In February 1997, a regular visitor to the pop...\n",
              "2005      105464  ...  Spain beat Australia   in a thrilling clash to...\n",
              "2006      105465  ...  A senior adviser to Donald Trump has reiterate...\n",
              "2007      105466  ...  ‘To say 2016 has been a big year for me is an ...\n",
              "2008      105467  ...  A classmate of 43 college students who disappe...\n",
              "2009      105468  ...  A novice fossil collector’s lucky find in a re...\n",
              "\n",
              "[10 rows x 10 columns]"
            ]
          },
          "execution_count": 21,
          "metadata": {},
          "output_type": "execute_result"
        }
      ],
      "source": [
        "small_df"
      ]
    },
    {
      "cell_type": "code",
      "execution_count": null,
      "metadata": {
        "colab": {
          "base_uri": "https://localhost:8080/",
          "height": 201
        },
        "id": "KXkYrVTvOjHM",
        "outputId": "c33cda17-47d2-4352-f668-87b695294d7c"
      },
      "outputs": [
        {
          "data": {
            "text/html": [
              "\n",
              "  <style>\n",
              "    pre {\n",
              "        white-space: pre-wrap;\n",
              "    }\n",
              "  </style>\n",
              "  "
            ],
            "text/plain": [
              "<IPython.core.display.HTML object>"
            ]
          },
          "metadata": {},
          "output_type": "display_data"
        },
        {
          "name": "stdout",
          "output_type": "stream",
          "text": [
            "['police', 'officers', 'officer', 'cops', 'policing', 'ferguson', 'violence', 'enforcement', 'blacks', 'departments']\n",
            "['crispr', 'embryos', 'genes', 'dna', 'scientists', 'genome', 'gene', 'researchers', 'fda', 'patents']\n",
            "['school', 'family', 'social', 'things', 'children', 'women', 'america', 'story', 'media', 'police']\n",
            "['school', 'family', 'social', 'things', 'children', 'women', 'america', 'story', 'media', 'police']\n",
            "['school', 'family', 'social', 'things', 'children', 'women', 'america', 'story', 'media', 'police']\n",
            "['school', 'family', 'social', 'things', 'children', 'women', 'america', 'story', 'media', 'police']\n",
            "['israel', 'israeli', 'palestinian', 'netanyahu', 'palestinians', 'israels', 'israelis', 'gaza', 'netanyahus', 'hamas']\n",
            "['school', 'family', 'social', 'things', 'children', 'women', 'america', 'story', 'media', 'police']\n",
            "['guzman', 'chapo', 'mexican', 'mexico', 'cartel', 'mexicos', 'extradition', 'guzmans', 'trafficking', 'ciudad']\n",
            "['dinosaurs', 'fossils', 'species', 'dinosaur', 'neanderthals', 'specimens', 'sapiens', 'evolution', 'evolved', 'tyrannosaurus']\n"
          ]
        }
      ],
      "source": [
        "for i, row in small_df.iterrows():\n",
        "  topic_num = bert_topic.transform(row['content'])[0][0]\n",
        "  keywords = bert_topic.get_topic(topic_num)\n",
        "  lst = [entry[0] for entry in keywords]\n",
        "  print(lst)"
      ]
    },
    {
      "cell_type": "code",
      "execution_count": null,
      "metadata": {
        "colab": {
          "base_uri": "https://localhost:8080/",
          "height": 16
        },
        "id": "MDARCf0AQqcm",
        "outputId": "4d275074-54a3-4776-c6fb-dc4d64b935b3"
      },
      "outputs": [
        {
          "data": {
            "text/html": [
              "\n",
              "  <style>\n",
              "    pre {\n",
              "        white-space: pre-wrap;\n",
              "    }\n",
              "  </style>\n",
              "  "
            ],
            "text/plain": [
              "<IPython.core.display.HTML object>"
            ]
          },
          "metadata": {},
          "output_type": "display_data"
        }
      ],
      "source": [
        "def polarization_score(pred_list, cls):\n",
        "  if cls == 0 or cls == 3:\n",
        "    return int(50 + 50 * pred_list[cls])\n",
        "  else:\n",
        "    return int(50 * pred_list[cls])"
      ]
    },
    {
      "cell_type": "code",
      "execution_count": null,
      "metadata": {
        "colab": {
          "base_uri": "https://localhost:8080/",
          "height": 16
        },
        "id": "KLzUXXXAMjEN",
        "outputId": "79b64728-d0aa-4a57-da75-ab9634b9b231"
      },
      "outputs": [
        {
          "data": {
            "text/html": [
              "\n",
              "  <style>\n",
              "    pre {\n",
              "        white-space: pre-wrap;\n",
              "    }\n",
              "  </style>\n",
              "  "
            ],
            "text/plain": [
              "<IPython.core.display.HTML object>"
            ]
          },
          "metadata": {},
          "output_type": "display_data"
        }
      ],
      "source": [
        "def make_pred(news_text):\n",
        "  sim_matrix = session.run(embedded_text, feed_dict={text_input: [news_text]})\n",
        "  combine = np.vstack([e_All_four, sim_matrix])\n",
        "  sca = scaler.fit_transform(combine)[-1]\n",
        "  sca = np.array([sca])\n",
        "  # sca = sca.reshape(sca.shape[0], 1, sca.shape[1])\n",
        "  pred = news_DNN_four.predict(sca)\n",
        "  classes_y= np.argmax(pred,axis=1)\n",
        "\n",
        "  # topic modelling addition\n",
        "  topic_num = bert_topic.transform(news_text)[0][0]\n",
        "  keywords = bert_topic.get_topic(topic_num)\n",
        "  keywords_lst = [entry[0] for entry in keywords]\n",
        "\n",
        "  if classes_y[0] == 0:\n",
        "    return 'Left', polarization_score(pred[0], classes_y), keywords_lst\n",
        "  elif  classes_y[0] == 1:\n",
        "    return 'Left-center', polarization_score(pred[0], classes_y), keywords_lst\n",
        "  elif  classes_y[0] == 2:\n",
        "    return 'right-center', polarization_score(pred[0], classes_y), keywords_lst\n",
        "  else:\n",
        "    return 'right', polarization_score(pred[0], classes_y), keywords_lst"
      ]
    },
    {
      "cell_type": "code",
      "execution_count": null,
      "metadata": {
        "colab": {
          "base_uri": "https://localhost:8080/",
          "height": 201
        },
        "id": "uPWuoKpyPFvl",
        "outputId": "e27d5fd4-154b-4508-fde2-3fa27f1707a8"
      },
      "outputs": [
        {
          "data": {
            "text/html": [
              "\n",
              "  <style>\n",
              "    pre {\n",
              "        white-space: pre-wrap;\n",
              "    }\n",
              "  </style>\n",
              "  "
            ],
            "text/plain": [
              "<IPython.core.display.HTML object>"
            ]
          },
          "metadata": {},
          "output_type": "display_data"
        },
        {
          "name": "stdout",
          "output_type": "stream",
          "text": [
            "('Left-center', 22, ['roof', 'roofs', 'jury', 'trial', 'jurors', 'sentencing', 'prosecutors', 'testimony', 'prosecutor', 'judge'])\n",
            "('Left-center', 26, ['police', 'officers', 'officer', 'cops', 'policing', 'ferguson', 'violence', 'enforcement', 'blacks', 'departments'])\n",
            "('Left-center', 39, ['dinosaurs', 'fossils', 'species', 'dinosaur', 'neanderthals', 'specimens', 'sapiens', 'evolution', 'evolved', 'tyrannosaurus'])\n",
            "('right', 74, ['school', 'family', 'social', 'things', 'children', 'women', 'america', 'story', 'media', 'police'])\n",
            "('right', 78, ['climate', 'agreement', 'emissions', 'treaty', 'carbon', 'coal', 'nations', 'pact', 'kyoto', 'agreements'])\n",
            "('Left-center', 26, ['pipeline', 'dakota', 'tribe', 'sioux', 'tribes', 'tribal', 'protesters', 'pipelines', 'indigenous', 'lands'])\n",
            "('right', 86, ['school', 'family', 'social', 'things', 'children', 'women', 'america', 'story', 'media', 'police'])\n",
            "('Left-center', 31, ['zika', 'virus', 'mosquitoes', 'mosquito', 'infected', 'infection', 'dengue', 'vaccine', 'diseases', 'fever'])\n",
            "('right', 73, ['school', 'family', 'social', 'things', 'children', 'women', 'america', 'story', 'media', 'police'])\n",
            "('Left-center', 30, ['school', 'family', 'social', 'things', 'children', 'women', 'america', 'story', 'media', 'police'])\n"
          ]
        }
      ],
      "source": [
        "for i, row in small_df.iterrows():\n",
        "  output = make_pred(row['content'])\n",
        "  print(output)"
      ]
    },
    {
      "cell_type": "code",
      "execution_count": null,
      "metadata": {
        "id": "3ntud6FrQPLs"
      },
      "outputs": [],
      "source": []
    }
  ],
  "metadata": {
    "colab": {
      "collapsed_sections": [],
      "name": "combine_with_bias_four.ipynb",
      "provenance": []
    },
    "kernelspec": {
      "display_name": "Python 3",
      "name": "python3"
    },
    "language_info": {
      "name": "python"
    }
  },
  "nbformat": 4,
  "nbformat_minor": 0
}
